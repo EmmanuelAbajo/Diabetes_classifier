{
 "cells": [
  {
   "cell_type": "markdown",
   "metadata": {},
   "source": [
    "## Data Preprocessing\n",
    "Data preparation involves data visualization, data cleaning and data exploration. Data cleaning involves the following;\n",
    "- Handling Data imbalance\n",
    "- Feature selection\n",
    "- Feature scaling\n",
    "- Handling categorical variables\n",
    "- Handling missing data\n",
    "\n",
    "For the selection of the ML algorithm to use, data visualization and data correlation are heavily used to decide this choice. When a two features are strongly correlated, only one should be used else it will act as noise in the system and increase model complexity thereby leading to overfitting. Removing these features is also necessary due to speed because having unneccesary information adds more calculation and parameters to the model.\n",
    "\n",
    "When a feature is weakly correlated to the outcome, it can be removed from the feature set.Data visualization helps find how many of the individual features correlate with the output.\n",
    "\n",
    "Random forests/decision trees can be used to find data correlation. One popular rank correlation method in ML is the Principal Component Analysis. It’s a technique to find patterns in high dimensional data. Basically, it will simplify data of higher dimensions into lower dimensions.\n",
    "\n",
    "## Handling missing data\n",
    "One of the most common interpolation techniques is mean imputation, where we simply replace the missing value by the mean value of the entire feature column.\n",
    "\n"
   ]
  },
  {
   "cell_type": "markdown",
   "metadata": {},
   "source": [
    "## Checking the Correlation"
   ]
  },
  {
   "cell_type": "code",
   "execution_count": null,
   "metadata": {
    "scrolled": true
   },
   "outputs": [],
   "source": [
    "import pandas as pd\n",
    "from pandas.plotting import scatter_matrix\n",
    "df = pd.read_csv('diabetes.csv') \n",
    "#print(df.var())\n",
    "\n",
    "attr = ['Pregnancies','Age','BloodPressure','Glucose']\n",
    "scatter_matrix(df[attr], figsize=(12, 8))\n",
    "\n",
    "corr_matrix = df.corr()\n",
    "corr_matrix['Pregnancies'].sort_values(ascending=False)\n"
   ]
  },
  {
   "cell_type": "code",
   "execution_count": null,
   "metadata": {},
   "outputs": [],
   "source": [
    "import pandas as pd\n",
    "from matplotlib import pyplot as plt\n",
    "import numpy as np\n",
    "import seaborn as sns\n",
    "import itertools\n",
    "#from sklearn.model_selection import cross_val_score"
   ]
  },
  {
   "cell_type": "markdown",
   "metadata": {},
   "source": [
    "## Supporting Functions"
   ]
  },
  {
   "cell_type": "code",
   "execution_count": 13,
   "metadata": {},
   "outputs": [],
   "source": [
    "# Oversampling function\n",
    "def dup_label(df,label,val,n):\n",
    "    temp = df[df[label] == val]\n",
    "    for _ in range(n):\n",
    "        df = df.append(temp,ignore_index=True)\n",
    "    return df\n",
    "\n",
    "def plot_confusion_matrix(cm, classes,\n",
    "                          normalize=False,\n",
    "                          title='Confusion matrix',\n",
    "                          cmap=plt.cm.Blues):\n",
    "    \"\"\"\n",
    "    This function prints and plots the confusion matrix.\n",
    "    Normalization can be applied by setting `normalize=True`.\n",
    "    \"\"\"\n",
    "    plt.imshow(cm, interpolation='nearest', cmap=cmap)\n",
    "    plt.title(title)\n",
    "    plt.colorbar()\n",
    "    tick_marks = np.arange(len(classes))\n",
    "    plt.xticks(tick_marks, classes, rotation=0)\n",
    "    plt.yticks(tick_marks, classes)\n",
    "\n",
    "    if normalize:\n",
    "        cm = cm.astype('float') / cm.sum(axis=1)[:, np.newaxis]\n",
    "    else:\n",
    "        pass\n",
    "    \n",
    "    thresh = cm.max() / 2.\n",
    "    for i, j in itertools.product(range(cm.shape[0]), range(cm.shape[1])):\n",
    "        plt.text(j, i, cm[i, j],\n",
    "                 horizontalalignment=\"center\",\n",
    "                 color=\"white\" if cm[i, j] > thresh else \"black\")\n",
    "\n",
    "    plt.tight_layout()\n",
    "    plt.ylabel('True label')\n",
    "    plt.xlabel('Predicted label')"
   ]
  },
  {
   "cell_type": "markdown",
   "metadata": {},
   "source": [
    "## Data Preparation"
   ]
  },
  {
   "cell_type": "code",
   "execution_count": 14,
   "metadata": {
    "scrolled": false
   },
   "outputs": [
    {
     "data": {
      "image/png": "[encoded data removed]",
      "text/plain": [
       "<Figure size 432x288 with 1 Axes>"
      ]
     },
     "metadata": {},
     "output_type": "display_data"
    }
   ],
   "source": [
    "df = pd.read_csv('diabetes.csv')\n",
    "\n",
    "#Handling of missing values\n",
    "from sklearn.preprocessing import Imputer\n",
    "df[['Glucose','SkinThickness','BloodPressure','Insulin','BMI']]=df[['Glucose','SkinThickness','BloodPressure','Insulin','BMI']].replace(0,np.nan)\n",
    "imr = Imputer(missing_values='NaN', strategy='mean', axis=0)\n",
    "df_transformed = imr.fit_transform(df)\n",
    "df = pd.DataFrame(df_transformed, columns = df.columns.values)\n",
    "\n",
    "# Plot showing imbalanced data\n",
    "%matplotlib inline\n",
    "df['Outcome'].plot(kind='hist')\n",
    "plt.title('Imbalanced Data Set')\n",
    "plt.show()\n",
    "\n",
    "feature_columns = df.columns[0:8].values\n",
    "X = df[feature_columns]\n",
    "y = df.Outcome\n",
    "\n",
    "from sklearn.model_selection import train_test_split\n",
    "X_train,X_test,y_train,y_test = train_test_split(X,y,test_size=0.3,random_state=0)\n",
    "\n",
    "from sklearn.preprocessing import StandardScaler\n",
    "std_scaler = StandardScaler()\n",
    "X_train_std = std_scaler.fit_transform(X_train)\n",
    "X_test_std = std_scaler.transform(X_test)\n"
   ]
  },
  {
   "cell_type": "code",
   "execution_count": null,
   "metadata": {},
   "outputs": [],
   "source": [
    "from imblearn.pipeline import Pipeline\n",
    "from imblearn.over_sampling import SMOTE\n",
    "from sklearn.metrics import classification_report\n",
    "from sklearn.metrics import confusion_matrix"
   ]
  },
  {
   "cell_type": "markdown",
   "metadata": {},
   "source": [
    "### Logistic Regression Classifier"
   ]
  },
  {
   "cell_type": "code",
   "execution_count": 23,
   "metadata": {},
   "outputs": [
    {
     "name": "stdout",
     "output_type": "stream",
     "text": [
      "Accuracy Score: 0.7229437229437229\n",
      "\n",
      "Classifcation report:\n",
      "              precision    recall  f1-score   support\n",
      "\n",
      "        0.0       0.83      0.75      0.79       157\n",
      "        1.0       0.56      0.68      0.61        74\n",
      "\n",
      "avg / total       0.74      0.72      0.73       231\n",
      "\n"
     ]
    },
    {
     "data": {
      "image/png": "[encoded data removed]",
      "text/plain": [
       "<Figure size 432x288 with 2 Axes>"
      ]
     },
     "metadata": {},
     "output_type": "display_data"
    }
   ],
   "source": [
    "from sklearn.linear_model import LogisticRegression\n",
    "\n",
    "resampling = SMOTE(kind='borderline2')\n",
    "model = LogisticRegression()\n",
    "\n",
    "# Define the pipeline, tell it to combine SMOTE with the Logistic Regression model\n",
    "pipeline = Pipeline([('SMOTE', resampling), ('Logistic Regression', model)])\n",
    "\n",
    "# We can treat the pipeline as a single ML model\n",
    "pipeline.fit(X_train_std,y_train)\n",
    "y_pred = pipeline.predict(X_test_std)\n",
    "print('Accuracy Score: {}\\n'.format(pipeline.score(X_test_std,y_test)))\n",
    "print('Classifcation report:\\n', classification_report(y_test, y_pred))\n",
    "\n",
    "# We print out the confusion matrix\n",
    "cnf_matrix = confusion_matrix(y_test,y_pred)\n",
    "class_names = [0,1]\n",
    "\n",
    "plt.figure()\n",
    "plot_confusion_matrix(cnf_matrix, classes=class_names, title='Confusion matrix')\n",
    "plt.show()"
   ]
  },
  {
   "cell_type": "markdown",
   "metadata": {},
   "source": [
    "### Random Forest Classifier"
   ]
  },
  {
   "cell_type": "code",
   "execution_count": 24,
   "metadata": {},
   "outputs": [
    {
     "name": "stdout",
     "output_type": "stream",
     "text": [
      "Accuracy Score: 0.7965367965367965\n",
      "\n",
      "Classifcation report:\n",
      "              precision    recall  f1-score   support\n",
      "\n",
      "        0.0       0.87      0.83      0.85       157\n",
      "        1.0       0.67      0.73      0.70        74\n",
      "\n",
      "avg / total       0.80      0.80      0.80       231\n",
      "\n"
     ]
    },
    {
     "data": {
      "image/png": "[encoded data removed]",
      "text/plain": [
       "<Figure size 432x288 with 2 Axes>"
      ]
     },
     "metadata": {},
     "output_type": "display_data"
    }
   ],
   "source": [
    "from sklearn.ensemble import RandomForestClassifier\n",
    "\n",
    "model = RandomForestClassifier(n_estimators=120,random_state=0,n_jobs=-1)\n",
    "\n",
    "# Define the pipeline, tell it to combine SMOTE with the Logistic Regression model\n",
    "pipeline = Pipeline([('SMOTE', resampling), ('Random Forest', model)])\n",
    "\n",
    "# We can treat the pipeline as a single ML model\n",
    "pipeline.fit(X_train_std,y_train)\n",
    "y_pred = pipeline.predict(X_test_std)\n",
    "print('Accuracy Score: {}\\n'.format(pipeline.score(X_test_std,y_test)))\n",
    "print('Classifcation report:\\n', classification_report(y_test, y_pred))\n",
    "\n",
    "# We print out the confusion matrix\n",
    "cnf_matrix = confusion_matrix(y_test,y_pred)\n",
    "class_names = [0,1]\n",
    "\n",
    "plt.figure()\n",
    "plot_confusion_matrix(cnf_matrix, classes=class_names, title='Confusion matrix')\n",
    "plt.show()"
   ]
  },
  {
   "cell_type": "markdown",
   "metadata": {},
   "source": [
    "### K-Nearest Neighbors"
   ]
  },
  {
   "cell_type": "code",
   "execution_count": 25,
   "metadata": {},
   "outputs": [
    {
     "name": "stdout",
     "output_type": "stream",
     "text": [
      "Accuracy Score: 0.7186147186147186\n",
      "\n",
      "Classifcation report:\n",
      "              precision    recall  f1-score   support\n",
      "\n",
      "        0.0       0.85      0.71      0.77       157\n",
      "        1.0       0.54      0.74      0.63        74\n",
      "\n",
      "avg / total       0.75      0.72      0.73       231\n",
      "\n"
     ]
    },
    {
     "data": {
      "image/png": "[encoded data removed]",
      "text/plain": [
       "<Figure size 432x288 with 2 Axes>"
      ]
     },
     "metadata": {},
     "output_type": "display_data"
    }
   ],
   "source": [
    "from sklearn.neighbors import KNeighborsClassifier\n",
    "\n",
    "model = KNeighborsClassifier(n_neighbors = 5)\n",
    "\n",
    "# Define the pipeline, tell it to combine SMOTE with the Logistic Regression model\n",
    "pipeline = Pipeline([('SMOTE', resampling), ('K_nearest_neighbor ', model)])\n",
    "\n",
    "# We can treat the pipeline as a single ML model\n",
    "pipeline.fit(X_train_std,y_train)\n",
    "y_pred = pipeline.predict(X_test_std)\n",
    "print('Accuracy Score: {}\\n'.format(pipeline.score(X_test_std,y_test)))\n",
    "print('Classifcation report:\\n', classification_report(y_test, y_pred))\n",
    "\n",
    "# We print out the confusion matrix\n",
    "cnf_matrix = confusion_matrix(y_test,y_pred)\n",
    "class_names = [0,1]\n",
    "\n",
    "plt.figure()\n",
    "plot_confusion_matrix(cnf_matrix, classes=class_names, title='Confusion matrix')\n",
    "plt.show()"
   ]
  },
  {
   "cell_type": "markdown",
   "metadata": {},
   "source": [
    "### Support Vector Classifier"
   ]
  },
  {
   "cell_type": "code",
   "execution_count": 26,
   "metadata": {},
   "outputs": [
    {
     "name": "stdout",
     "output_type": "stream",
     "text": [
      "Accuracy Score: 0.7186147186147186\n",
      "\n",
      "Classifcation report:\n",
      "              precision    recall  f1-score   support\n",
      "\n",
      "        0.0       0.73      0.92      0.82       157\n",
      "        1.0       0.63      0.30      0.40        74\n",
      "\n",
      "avg / total       0.70      0.72      0.68       231\n",
      "\n"
     ]
    },
    {
     "data": {
      "image/png": "[encoded data removed]",
      "text/plain": [
       "<Figure size 432x288 with 2 Axes>"
      ]
     },
     "metadata": {},
     "output_type": "display_data"
    }
   ],
   "source": [
    "from sklearn.svm import SVC\n",
    "\n",
    "model = SVC(kernel='rbf', C=1.0,gamma=2.0,random_state=0)\n",
    "\n",
    "# Define the pipeline, tell it to combine SMOTE with the Logistic Regression model\n",
    "pipeline = Pipeline([('SMOTE', resampling), ('SVM ', model)])\n",
    "\n",
    "# We can treat the pipeline as a single ML model\n",
    "pipeline.fit(X_train_std,y_train)\n",
    "y_pred = pipeline.predict(X_test_std)\n",
    "print('Accuracy Score: {}\\n'.format(pipeline.score(X_test_std,y_test)))\n",
    "print('Classifcation report:\\n', classification_report(y_test, y_pred))\n",
    "\n",
    "# We print out the confusion matrix\n",
    "cnf_matrix = confusion_matrix(y_test,y_pred)\n",
    "class_names = [0,1]\n",
    "\n",
    "plt.figure()\n",
    "plot_confusion_matrix(cnf_matrix, classes=class_names, title='Confusion matrix')\n",
    "plt.show()\n"
   ]
  },
  {
   "cell_type": "code",
   "execution_count": null,
   "metadata": {},
   "outputs": [],
   "source": [
    "#df_test = df.head(20)\n",
    "#np.where(df_test['Insulin'] == 0,1,df_test['Insulin'])  #return 1 where true else retain the value\n",
    "#df_test['Insulin'] = df_test['Insulin'].replace(0,np.nan) #replaces the value of 0 with np.nan\n",
    "#df_test.columns.values\n",
    "#df_test.dropna(subset = ['Insulin']) #drops the rows with the NaN data\n",
    "#df_test.drop(labels=['Glucose','Insulin'],axis=1) #Drops the glucose and insulin column"
   ]
  }
 ],
 "metadata": {
  "kernelspec": {
   "display_name": "Python 3",
   "language": "python",
   "name": "python3"
  },
  "language_info": {
   "codemirror_mode": {
    "name": "ipython",
    "version": 3
   },
   "file_extension": ".py",
   "mimetype": "text/x-python",
   "name": "python",
   "nbconvert_exporter": "python",
   "pygments_lexer": "ipython3",
   "version": "3.6.5"
  }
 },
 "nbformat": 4,
 "nbformat_minor": 2
}
